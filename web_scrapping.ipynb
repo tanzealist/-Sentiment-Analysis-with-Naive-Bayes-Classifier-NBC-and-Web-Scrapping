{
 "cells": [
  {
   "cell_type": "code",
   "execution_count": 18,
   "metadata": {},
   "outputs": [
    {
     "name": "stdout",
     "output_type": "stream",
     "text": [
      "     review_rating                                        review_text\n",
      "0                5                                                   \n",
      "1                5  Generally good service, have made multiple ord...\n",
      "2                1  Incompetent Customer Service for password rese...\n",
      "3                1  Amazon’s customer service is terrible. I just ...\n",
      "4                1  I bought an a electric off amazon and paid for...\n",
      "...            ...                                                ...\n",
      "3515             5  If given the choice and I have taken advantage...\n",
      "3516             1  Stop using Yodel!Whilst clearly you have dispa...\n",
      "3517             3  We started accepting payment from bills amazon...\n",
      "3518             1  I purchased at Amazon 2 pair motorcycle gloves...\n",
      "3519             5  I am never disappointed with Amazon. As a Prim...\n",
      "\n",
      "[3520 rows x 2 columns]\n"
     ]
    }
   ],
   "source": [
    "from bs4 import BeautifulSoup\n",
    "import requests, time\n",
    "import pandas as pd\n",
    "import datetime as dt\n",
    "\n",
    "# Initialize lists\n",
    "review_ratings = []\n",
    "review_texts = []\n",
    "\n",
    "# Set Trustpilot page numbers to scrape here\n",
    "from_page = 351\n",
    "to_page = 790\n",
    "\n",
    "for i in range(from_page, to_page + 1):\n",
    "    time.sleep(1)\n",
    "    response = requests.get(f\"https://www.trustpilot.com/review/www.amazon.com?page={i}\")\n",
    "    web_page = response.text\n",
    "    soup = BeautifulSoup(web_page, \"html.parser\")\n",
    "\n",
    "    for review in soup.find_all(class_ = \"paper_paper__1PY90 paper_outline__lwsUX card_card__lQWDv styles_reviewCard__hcAvl\"):\n",
    "        # print(review)\n",
    "\n",
    "        # Review ratings\n",
    "        review_rating = review.find(class_ = \"star-rating_starRating__4rrcf star-rating_medium__iN6Ty\").findChild()\n",
    "        review_ratings.append(review_rating[\"alt\"].split()[1])\n",
    "        # print(review_rating[\"alt\"])\n",
    "        \n",
    "        # When there is no review text, append \"\" instead of skipping so that data remains in sequence with other review data e.g. review_title\n",
    "        review_text = review.find(class_ = \"typography_body-l__KUYFJ typography_appearance-default__AAY17 typography_color-black__5LYEn\")\n",
    "        if review_text == None:\n",
    "            review_texts.append(\"\")\n",
    "        else:\n",
    "            review_texts.append(review_text.getText())\n",
    "            # print(review_text.getText())\n",
    "\n",
    "# Create final dataframe from lists\n",
    "df_reviews = pd.DataFrame(list(zip(review_ratings, review_texts)), columns =['review_rating', 'review_text'])\n",
    "print(df_reviews)"
   ]
  },
  {
   "cell_type": "code",
   "execution_count": 19,
   "metadata": {},
   "outputs": [],
   "source": [
    "df_reviews.to_csv('/Users/tanujverma/Desktop/reviews_5401_10000.csv', encoding='utf-8')"
   ]
  },
  {
   "cell_type": "code",
   "execution_count": 21,
   "metadata": {},
   "outputs": [],
   "source": [
    "# Read the two CSV files\n",
    "csv_file_1 = pd.read_csv(\"/Users/tanujverma/Desktop/reviews_1_5400.csv\")\n",
    "csv_file_2 = pd.read_csv(\"/Users/tanujverma/Desktop/reviews_5401_10000.csv\")\n",
    "\n",
    "# Concatenate the two DataFrames\n",
    "combined_dataframe = pd.concat([csv_file_1, csv_file_2], ignore_index=True)\n",
    "\n",
    "# If you want to save the combined DataFrame to a new CSV file\n",
    "combined_dataframe.to_csv(\"/Users/tanujverma/Desktop/reviews.csv\", index=False)"
   ]
  }
 ],
 "metadata": {
  "kernelspec": {
   "display_name": "Python 3",
   "language": "python",
   "name": "python3"
  },
  "language_info": {
   "codemirror_mode": {
    "name": "ipython",
    "version": 3
   },
   "file_extension": ".py",
   "mimetype": "text/x-python",
   "name": "python",
   "nbconvert_exporter": "python",
   "pygments_lexer": "ipython3",
   "version": "3.11.2 (main, Mar 24 2023, 00:16:47) [Clang 14.0.0 (clang-1400.0.29.202)]"
  },
  "orig_nbformat": 4,
  "vscode": {
   "interpreter": {
    "hash": "b0fa6594d8f4cbf19f97940f81e996739fb7646882a419484c72d19e05852a7e"
   }
  }
 },
 "nbformat": 4,
 "nbformat_minor": 2
}
